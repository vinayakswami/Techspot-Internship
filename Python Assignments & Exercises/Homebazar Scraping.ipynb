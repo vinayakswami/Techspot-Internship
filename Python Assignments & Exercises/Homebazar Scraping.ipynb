{
 "cells": [
  {
   "cell_type": "code",
   "execution_count": 2,
   "id": "85c490ac",
   "metadata": {},
   "outputs": [
    {
     "name": "stdout",
     "output_type": "stream",
     "text": [
      "Saved table_1.xlsx\n",
      "Saved table_2.xlsx\n",
      "Saved table_3.xlsx\n",
      "Saved table_4.xlsx\n",
      "Saved table_5.xlsx\n",
      "\n",
      "All tables saved to Excel files.\n"
     ]
    }
   ],
   "source": [
    "from bs4 import BeautifulSoup\n",
    "import requests\n",
    "import pandas as pd\n",
    "\n",
    "# Send GET request to the URL\n",
    "response = requests.get(\"https://www.homebazaar.com/knowledge/property-rates-in-bangalore/\")\n",
    "\n",
    "# Parse HTML content\n",
    "soup = BeautifulSoup(response.text, 'html.parser')\n",
    "\n",
    "# Find all tables\n",
    "tables = soup.find_all('table')\n",
    "\n",
    "# Remove the 6th table if it exists (index 5)\n",
    "if len(tables) >= 6:\n",
    "    del tables[5]\n",
    "\n",
    "# Iterate over each table\n",
    "for index, table in enumerate(tables):\n",
    "    df = pd.read_html(str(table))[0]\n",
    "\n",
    "    # Save each DataFrame to a separate Excel file\n",
    "    filename = f\"table_{index + 1}.xlsx\"\n",
    "    df.to_excel(filename, index=False)\n",
    "    print(f\"Saved {filename}\")\n",
    "\n",
    "print(\"\\nAll tables saved to Excel files.\")"
   ]
  },
  {
   "cell_type": "code",
   "execution_count": null,
   "id": "b3bfe646",
   "metadata": {},
   "outputs": [],
   "source": []
  }
 ],
 "metadata": {
  "kernelspec": {
   "display_name": "Python 3 (ipykernel)",
   "language": "python",
   "name": "python3"
  },
  "language_info": {
   "codemirror_mode": {
    "name": "ipython",
    "version": 3
   },
   "file_extension": ".py",
   "mimetype": "text/x-python",
   "name": "python",
   "nbconvert_exporter": "python",
   "pygments_lexer": "ipython3",
   "version": "3.11.5"
  }
 },
 "nbformat": 4,
 "nbformat_minor": 5
}
